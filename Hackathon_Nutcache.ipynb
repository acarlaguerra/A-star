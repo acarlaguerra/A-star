{
  "nbformat": 4,
  "nbformat_minor": 0,
  "metadata": {
    "colab": {
      "provenance": [],
      "include_colab_link": true
    },
    "kernelspec": {
      "name": "python3",
      "display_name": "Python 3"
    },
    "language_info": {
      "name": "python"
    }
  },
  "cells": [
    {
      "cell_type": "markdown",
      "metadata": {
        "id": "view-in-github",
        "colab_type": "text"
      },
      "source": [
        "<a href=\"https://colab.research.google.com/github/acarlaguerra/A-star/blob/main/Hackathon_Nutcache.ipynb\" target=\"_parent\"><img src=\"https://colab.research.google.com/assets/colab-badge.svg\" alt=\"Open In Colab\"/></a>"
      ]
    },
    {
      "cell_type": "markdown",
      "source": [
        "# Project Goal\n",
        "Improve a Nutcache feature by adding an AI layer into time tracking to make project management an easier and more efficient activity.\n",
        "\n",
        "## Team\n",
        "- Ana Carla Guerra\n",
        "- Luiza Diniz\n",
        "- Maria Carolina Berrafato\n",
        "\n",
        "## Dataset\n",
        "We built a dataset using hipothetic data since we needed specific information for this current application.\n",
        "\n",
        "We used the third sheet, you can check it out here: https://docs.google.com/spreadsheets/d/1bZe7HGhYhpwPZuNk1yTDJgFSaWgJLbYhDFz_tM_yGf0/edit#gid=1521533093\n",
        "\n",
        "**`ex_time`:** *Average time the team member **usually** spends on doing some kind of task (in minutes);*\n",
        "\n",
        "**`experience`:** *Experience/skills level of the team member, graded from 0-2;*\n",
        "  - *0: Entry/starter level*\n",
        "  - *1: Mid level*\n",
        "  - *2: Senior level*\n",
        "\n",
        "**`priorities`:** *Level of priority of the task, graded from 0-4:*\n",
        "  - *0: No priority*\n",
        "  - *1: Low priority*\n",
        "  - *2: Normal priority*\n",
        "  - *3: Medium priority*\n",
        "  - *4: High priority*\n",
        "\n",
        "**`tags`:** *A keyword related to the task. For the MVP, we will admit that it only takes a single value;*\n",
        "\n",
        "  - **[Values: \"Development\", \"Design\", \"Sales\", \"Marketing\"]**\n",
        "\n",
        "**`task_duration`:** *Amount of time taken for finishing each task.* ***This is the target variable (what we want to predict);***\n",
        "\n",
        "# Code\n",
        "## Importing Libraries"
      ],
      "metadata": {
        "id": "JozHefFWngfl"
      }
    },
    {
      "cell_type": "code",
      "execution_count": null,
      "metadata": {
        "id": "lYgB5yeanaII"
      },
      "outputs": [],
      "source": [
        "import pandas as pd\n",
        "import numpy as np\n",
        "import matplotlib.pyplot as plt\n",
        "\n",
        "from sklearn.preprocessing import PolynomialFeatures"
      ]
    },
    {
      "cell_type": "markdown",
      "source": [
        "## Importing Dataset"
      ],
      "metadata": {
        "id": "fjsrRVsmvF6q"
      }
    },
    {
      "cell_type": "code",
      "source": [
        "dataset = pd.read_csv(\"dataset_hackathon_new.csv\")\n",
        "dataset.head() \n",
        "# Printing the first 5 lines of the dataset to check if it loaded properly"
      ],
      "metadata": {
        "colab": {
          "base_uri": "https://localhost:8080/",
          "height": 206
        },
        "id": "QTstEvEivA8i",
        "outputId": "307680ba-cefc-4c16-f076-c977c7f62cbf"
      },
      "execution_count": null,
      "outputs": [
        {
          "output_type": "execute_result",
          "data": {
            "text/plain": [
              "   avg_time  experience  priorities         tags  task_duration\n",
              "0       120           1           2        Sales            150\n",
              "1       700           0           3       Design            840\n",
              "2       540           2           3        Sales            480\n",
              "3       260           0           3  Development            360\n",
              "4       250           2           4    Marketing            300"
            ],
            "text/html": [
              "\n",
              "  <div id=\"df-55773a62-8aae-4728-86b6-8c74bce4d867\">\n",
              "    <div class=\"colab-df-container\">\n",
              "      <div>\n",
              "<style scoped>\n",
              "    .dataframe tbody tr th:only-of-type {\n",
              "        vertical-align: middle;\n",
              "    }\n",
              "\n",
              "    .dataframe tbody tr th {\n",
              "        vertical-align: top;\n",
              "    }\n",
              "\n",
              "    .dataframe thead th {\n",
              "        text-align: right;\n",
              "    }\n",
              "</style>\n",
              "<table border=\"1\" class=\"dataframe\">\n",
              "  <thead>\n",
              "    <tr style=\"text-align: right;\">\n",
              "      <th></th>\n",
              "      <th>avg_time</th>\n",
              "      <th>experience</th>\n",
              "      <th>priorities</th>\n",
              "      <th>tags</th>\n",
              "      <th>task_duration</th>\n",
              "    </tr>\n",
              "  </thead>\n",
              "  <tbody>\n",
              "    <tr>\n",
              "      <th>0</th>\n",
              "      <td>120</td>\n",
              "      <td>1</td>\n",
              "      <td>2</td>\n",
              "      <td>Sales</td>\n",
              "      <td>150</td>\n",
              "    </tr>\n",
              "    <tr>\n",
              "      <th>1</th>\n",
              "      <td>700</td>\n",
              "      <td>0</td>\n",
              "      <td>3</td>\n",
              "      <td>Design</td>\n",
              "      <td>840</td>\n",
              "    </tr>\n",
              "    <tr>\n",
              "      <th>2</th>\n",
              "      <td>540</td>\n",
              "      <td>2</td>\n",
              "      <td>3</td>\n",
              "      <td>Sales</td>\n",
              "      <td>480</td>\n",
              "    </tr>\n",
              "    <tr>\n",
              "      <th>3</th>\n",
              "      <td>260</td>\n",
              "      <td>0</td>\n",
              "      <td>3</td>\n",
              "      <td>Development</td>\n",
              "      <td>360</td>\n",
              "    </tr>\n",
              "    <tr>\n",
              "      <th>4</th>\n",
              "      <td>250</td>\n",
              "      <td>2</td>\n",
              "      <td>4</td>\n",
              "      <td>Marketing</td>\n",
              "      <td>300</td>\n",
              "    </tr>\n",
              "  </tbody>\n",
              "</table>\n",
              "</div>\n",
              "      <button class=\"colab-df-convert\" onclick=\"convertToInteractive('df-55773a62-8aae-4728-86b6-8c74bce4d867')\"\n",
              "              title=\"Convert this dataframe to an interactive table.\"\n",
              "              style=\"display:none;\">\n",
              "        \n",
              "  <svg xmlns=\"http://www.w3.org/2000/svg\" height=\"24px\"viewBox=\"0 0 24 24\"\n",
              "       width=\"24px\">\n",
              "    <path d=\"M0 0h24v24H0V0z\" fill=\"none\"/>\n",
              "    <path d=\"M18.56 5.44l.94 2.06.94-2.06 2.06-.94-2.06-.94-.94-2.06-.94 2.06-2.06.94zm-11 1L8.5 8.5l.94-2.06 2.06-.94-2.06-.94L8.5 2.5l-.94 2.06-2.06.94zm10 10l.94 2.06.94-2.06 2.06-.94-2.06-.94-.94-2.06-.94 2.06-2.06.94z\"/><path d=\"M17.41 7.96l-1.37-1.37c-.4-.4-.92-.59-1.43-.59-.52 0-1.04.2-1.43.59L10.3 9.45l-7.72 7.72c-.78.78-.78 2.05 0 2.83L4 21.41c.39.39.9.59 1.41.59.51 0 1.02-.2 1.41-.59l7.78-7.78 2.81-2.81c.8-.78.8-2.07 0-2.86zM5.41 20L4 18.59l7.72-7.72 1.47 1.35L5.41 20z\"/>\n",
              "  </svg>\n",
              "      </button>\n",
              "      \n",
              "  <style>\n",
              "    .colab-df-container {\n",
              "      display:flex;\n",
              "      flex-wrap:wrap;\n",
              "      gap: 12px;\n",
              "    }\n",
              "\n",
              "    .colab-df-convert {\n",
              "      background-color: #E8F0FE;\n",
              "      border: none;\n",
              "      border-radius: 50%;\n",
              "      cursor: pointer;\n",
              "      display: none;\n",
              "      fill: #1967D2;\n",
              "      height: 32px;\n",
              "      padding: 0 0 0 0;\n",
              "      width: 32px;\n",
              "    }\n",
              "\n",
              "    .colab-df-convert:hover {\n",
              "      background-color: #E2EBFA;\n",
              "      box-shadow: 0px 1px 2px rgba(60, 64, 67, 0.3), 0px 1px 3px 1px rgba(60, 64, 67, 0.15);\n",
              "      fill: #174EA6;\n",
              "    }\n",
              "\n",
              "    [theme=dark] .colab-df-convert {\n",
              "      background-color: #3B4455;\n",
              "      fill: #D2E3FC;\n",
              "    }\n",
              "\n",
              "    [theme=dark] .colab-df-convert:hover {\n",
              "      background-color: #434B5C;\n",
              "      box-shadow: 0px 1px 3px 1px rgba(0, 0, 0, 0.15);\n",
              "      filter: drop-shadow(0px 1px 2px rgba(0, 0, 0, 0.3));\n",
              "      fill: #FFFFFF;\n",
              "    }\n",
              "  </style>\n",
              "\n",
              "      <script>\n",
              "        const buttonEl =\n",
              "          document.querySelector('#df-55773a62-8aae-4728-86b6-8c74bce4d867 button.colab-df-convert');\n",
              "        buttonEl.style.display =\n",
              "          google.colab.kernel.accessAllowed ? 'block' : 'none';\n",
              "\n",
              "        async function convertToInteractive(key) {\n",
              "          const element = document.querySelector('#df-55773a62-8aae-4728-86b6-8c74bce4d867');\n",
              "          const dataTable =\n",
              "            await google.colab.kernel.invokeFunction('convertToInteractive',\n",
              "                                                     [key], {});\n",
              "          if (!dataTable) return;\n",
              "\n",
              "          const docLinkHtml = 'Like what you see? Visit the ' +\n",
              "            '<a target=\"_blank\" href=https://colab.research.google.com/notebooks/data_table.ipynb>data table notebook</a>'\n",
              "            + ' to learn more about interactive tables.';\n",
              "          element.innerHTML = '';\n",
              "          dataTable['output_type'] = 'display_data';\n",
              "          await google.colab.output.renderOutput(dataTable, element);\n",
              "          const docLink = document.createElement('div');\n",
              "          docLink.innerHTML = docLinkHtml;\n",
              "          element.appendChild(docLink);\n",
              "        }\n",
              "      </script>\n",
              "    </div>\n",
              "  </div>\n",
              "  "
            ]
          },
          "metadata": {},
          "execution_count": 21
        }
      ]
    },
    {
      "cell_type": "markdown",
      "source": [
        "## Dividing the dataset into x and y"
      ],
      "metadata": {
        "id": "BAQK1IN8bNf7"
      }
    },
    {
      "cell_type": "code",
      "source": [
        "# Dividing the dataset into 2 components\n",
        "X = dataset.iloc[:, 0:1].values   # we take the first column of the sheet (the expected time)\n",
        "y = dataset.iloc[:, 4].values     # we take the last column of the sheet (the actual time spent to finish the task)\n",
        "\n",
        "print(X)\n",
        "print(y)"
      ],
      "metadata": {
        "colab": {
          "base_uri": "https://localhost:8080/"
        },
        "id": "eV2XBPS6YtTb",
        "outputId": "b65044de-5c82-44dd-fe1a-120387464bfd"
      },
      "execution_count": null,
      "outputs": [
        {
          "output_type": "stream",
          "name": "stdout",
          "text": [
            "[[120]\n",
            " [700]\n",
            " [540]\n",
            " [260]\n",
            " [250]\n",
            " [ 90]\n",
            " [264]\n",
            " [389]\n",
            " [120]\n",
            " [400]\n",
            " [500]\n",
            " [328]\n",
            " [365]\n",
            " [527]\n",
            " [348]\n",
            " [118]\n",
            " [160]\n",
            " [ 98]\n",
            " [236]\n",
            " [236]\n",
            " [547]\n",
            " [130]\n",
            " [170]\n",
            " [322]\n",
            " [330]\n",
            " [740]\n",
            " [664]\n",
            " [440]\n",
            " [453]\n",
            " [324]\n",
            " [140]\n",
            " [210]\n",
            " [899]\n",
            " [555]\n",
            " [600]\n",
            " [450]\n",
            " [770]\n",
            " [590]\n",
            " [420]\n",
            " [258]\n",
            " [166]\n",
            " [650]\n",
            " [210]\n",
            " [500]\n",
            " [678]\n",
            " [941]\n",
            " [420]\n",
            " [280]\n",
            " [265]\n",
            " [468]\n",
            " [512]\n",
            " [697]\n",
            " [840]\n",
            " [143]\n",
            " [577]\n",
            " [410]\n",
            " [851]\n",
            " [415]\n",
            " [623]\n",
            " [524]]\n",
            "[150 840 480 360 300  92 396 360 200 545 680 534 457 732 552 222 350 114\n",
            " 293 337 659 315 214 522 400 820 868 420 470 310  70 412 898 520 750 560\n",
            " 900 920 585 387 430 800 270 300 882 945 744 250 235 600 480 802 840 142\n",
            " 671 655 764 371 633 511]\n"
          ]
        }
      ]
    },
    {
      "cell_type": "code",
      "source": [
        "# Fitting Linear Regression to the dataset\n",
        "from sklearn.linear_model import LinearRegression\n",
        "linear = LinearRegression()\n",
        "linear.fit(X, y)"
      ],
      "metadata": {
        "colab": {
          "base_uri": "https://localhost:8080/"
        },
        "id": "j8BlnZ92ZMZd",
        "outputId": "4bb14fe4-e86e-4672-94a4-c1cc01caab7c"
      },
      "execution_count": null,
      "outputs": [
        {
          "output_type": "execute_result",
          "data": {
            "text/plain": [
              "LinearRegression()"
            ]
          },
          "metadata": {},
          "execution_count": 23
        }
      ]
    },
    {
      "cell_type": "code",
      "source": [
        "# Visualising the Linear Regression results\n",
        "plt.scatter(X, y, color='blue')\n",
        "\n",
        "plt.plot(X, linear.predict(X), color='red')\n",
        "plt.title('Linear Regression')\n",
        "plt.xlabel('Expected Time')\n",
        "plt.ylabel('Task Duration')\n",
        "\n",
        "plt.show()"
      ],
      "metadata": {
        "colab": {
          "base_uri": "https://localhost:8080/",
          "height": 295
        },
        "id": "b-mhZnTXbVZZ",
        "outputId": "91558915-6a3f-49fd-f9b5-ed93b75c21a3"
      },
      "execution_count": null,
      "outputs": [
        {
          "output_type": "display_data",
          "data": {
            "text/plain": [
              "<Figure size 432x288 with 1 Axes>"
            ],
            "image/png": "[encoded data removed]"
          },
          "metadata": {
            "needs_background": "light"
          }
        }
      ]
    },
    {
      "cell_type": "code",
      "source": [
        "# Predicting a new result with Linear Regression after converting predict variable to 2D array\n",
        "pred = 200.0\n",
        "predarray = np.array([[pred]])\n",
        "linear.predict(predarray)\n",
        "\n",
        "# We show here that for an expected time of 200 minutes to finish a task, the person would actually spend 90 more minutes"
      ],
      "metadata": {
        "colab": {
          "base_uri": "https://localhost:8080/"
        },
        "id": "JIJLP-kT4_E8",
        "outputId": "8dd5a04a-82e3-4997-a2ed-59218972e601"
      },
      "execution_count": null,
      "outputs": [
        {
          "output_type": "execute_result",
          "data": {
            "text/plain": [
              "array([290.42908361])"
            ]
          },
          "metadata": {},
          "execution_count": 25
        }
      ]
    }
  ]
}